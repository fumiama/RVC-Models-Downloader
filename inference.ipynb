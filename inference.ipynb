{
  "cells": [
    {
      "cell_type": "code",
      "source": [
        "from google.colab import drive\n",
        "drive.mount('/content/drive')"
      ],
      "metadata": {
        "id": "aiW9Mv4rcFaj",
        "outputId": "accd1745-ece1-467b-808f-d0363525d919",
        "colab": {
          "base_uri": "https://localhost:8080/"
        }
      },
      "id": "aiW9Mv4rcFaj",
      "execution_count": 1,
      "outputs": [
        {
          "output_type": "stream",
          "name": "stdout",
          "text": [
            "Mounted at /content/drive\n"
          ]
        }
      ]
    },
    {
      "cell_type": "code",
      "source": [
        "!apt-get install tree  # 安裝 tree 指令\n",
        "!tree /content/drive/MyDrive/so-vits-svc/"
      ],
      "metadata": {
        "id": "UVZWrpIuc-Sl",
        "outputId": "39b9c907-06c9-43ab-e02b-8ccf3f870f1f",
        "colab": {
          "base_uri": "https://localhost:8080/"
        }
      },
      "id": "UVZWrpIuc-Sl",
      "execution_count": 3,
      "outputs": [
        {
          "output_type": "stream",
          "name": "stdout",
          "text": [
            "Reading package lists... Done\n",
            "Building dependency tree... Done\n",
            "Reading state information... Done\n",
            "The following NEW packages will be installed:\n",
            "  tree\n",
            "0 upgraded, 1 newly installed, 0 to remove and 19 not upgraded.\n",
            "Need to get 47.9 kB of archives.\n",
            "After this operation, 116 kB of additional disk space will be used.\n",
            "Get:1 http://archive.ubuntu.com/ubuntu jammy/universe amd64 tree amd64 2.0.2-1 [47.9 kB]\n",
            "Fetched 47.9 kB in 1s (72.4 kB/s)\n",
            "Selecting previously unselected package tree.\n",
            "(Reading database ... 124926 files and directories currently installed.)\n",
            "Preparing to unpack .../tree_2.0.2-1_amd64.deb ...\n",
            "Unpacking tree (2.0.2-1) ...\n",
            "Setting up tree (2.0.2-1) ...\n",
            "Processing triggers for man-db (2.10.2-1) ...\n",
            "\u001b[01;34m/content/drive/MyDrive/so-vits-svc/\u001b[0m\n",
            "└── \u001b[01;34mdataset\u001b[0m\n",
            "    ├── \u001b[01;34mChunFeng_春風\u001b[0m\n",
            "    │   ├── \u001b[01;35m春風_1.wav\u001b[0m\n",
            "    │   ├── \u001b[01;35m春風_2.wav\u001b[0m\n",
            "    │   ├── \u001b[01;35m春風_3.wav\u001b[0m\n",
            "    │   └── \u001b[01;35m春風_4.wav\u001b[0m\n",
            "    ├── \u001b[01;34mKenG_健志\u001b[0m\n",
            "    │   ├── \u001b[01;35m健志_1.wav\u001b[0m\n",
            "    │   ├── \u001b[01;35m健志_2.wav\u001b[0m\n",
            "    │   ├── \u001b[01;35m健志_3 (1).wav\u001b[0m\n",
            "    │   └── \u001b[01;35m健志_3.wav\u001b[0m\n",
            "    ├── \u001b[01;34mYangCong_洋蔥\u001b[0m\n",
            "    │   ├── \u001b[01;35m洋蔥_1.wav\u001b[0m\n",
            "    │   ├── \u001b[01;35m洋蔥_2.wav\u001b[0m\n",
            "    │   ├── \u001b[01;35m洋蔥_3.wav\u001b[0m\n",
            "    │   └── \u001b[01;35m洋蔥_4.wav\u001b[0m\n",
            "    └── \u001b[01;35m唱片歌曲_下輩子_玖壹壹.flac\u001b[0m\n",
            "\n",
            "4 directories, 13 files\n"
          ]
        }
      ]
    },
    {
      "cell_type": "code",
      "source": [
        "!python preprocess.py --config_path /content/drive/MyDrive/so-vits-svc/config.json"
      ],
      "metadata": {
        "id": "tETnk-OHdF6-",
        "outputId": "317ab513-0324-4816-d1e1-6b1050271874",
        "colab": {
          "base_uri": "https://localhost:8080/"
        }
      },
      "id": "tETnk-OHdF6-",
      "execution_count": 4,
      "outputs": [
        {
          "output_type": "stream",
          "name": "stdout",
          "text": [
            "python3: can't open file '/content/preprocess.py': [Errno 2] No such file or directory\n"
          ]
        }
      ]
    }
  ],
  "metadata": {
    "kernelspec": {
      "display_name": "Python 3 (ipykernel)",
      "language": "python",
      "name": "python3"
    },
    "language_info": {
      "codemirror_mode": {
        "name": "ipython",
        "version": 3
      },
      "file_extension": ".py",
      "mimetype": "text/x-python",
      "name": "python",
      "nbconvert_exporter": "python",
      "pygments_lexer": "ipython3",
      "version": "3.7.7"
    },
    "colab": {
      "provenance": []
    }
  },
  "nbformat": 4,
  "nbformat_minor": 5
}